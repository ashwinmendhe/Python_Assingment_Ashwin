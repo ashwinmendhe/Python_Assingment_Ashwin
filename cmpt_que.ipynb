{
 "cells": [
  {
   "cell_type": "markdown",
   "metadata": {},
   "source": [
    "# Generate All Binary Strings"
   ]
  },
  {
   "cell_type": "code",
   "execution_count": 1,
   "metadata": {},
   "outputs": [
    {
     "ename": "NameError",
     "evalue": "name 'd' is not defined",
     "output_type": "error",
     "traceback": [
      "\u001b[0;31m---------------------------------------------------------------------------\u001b[0m",
      "\u001b[0;31mNameError\u001b[0m                                 Traceback (most recent call last)",
      "\u001b[1;32m/home/ashwin/Data_Science_project/cmpt_que.ipynb Cell 2\u001b[0m in \u001b[0;36m<cell line: 5>\u001b[0;34m()\u001b[0m\n\u001b[1;32m      <a href='vscode-notebook-cell:/home/ashwin/Data_Science_project/cmpt_que.ipynb#W0sZmlsZQ%3D%3D?line=3'>4</a>\u001b[0m out \u001b[39m=\u001b[39m []\n\u001b[1;32m      <a href='vscode-notebook-cell:/home/ashwin/Data_Science_project/cmpt_que.ipynb#W0sZmlsZQ%3D%3D?line=4'>5</a>\u001b[0m \u001b[39mfor\u001b[39;00m i \u001b[39min\u001b[39;00m \u001b[39mrange\u001b[39m(n):\n\u001b[0;32m----> <a href='vscode-notebook-cell:/home/ashwin/Data_Science_project/cmpt_que.ipynb#W0sZmlsZQ%3D%3D?line=5'>6</a>\u001b[0m     out\u001b[39m.\u001b[39mappend(d\u001b[39m+\u001b[39m\u001b[39mstr\u001b[39m(i))\n",
      "\u001b[0;31mNameError\u001b[0m: name 'd' is not defined"
     ]
    }
   ],
   "source": [
    "n=2\n",
    "d1 =0\n",
    "d2 =1\n",
    "out = []\n",
    "for i in range(n):\n",
    "    out.append(d+str(i))"
   ]
  }
 ],
 "metadata": {
  "kernelspec": {
   "display_name": "Python 3.10.5 ('conda_ash1')",
   "language": "python",
   "name": "python3"
  },
  "language_info": {
   "codemirror_mode": {
    "name": "ipython",
    "version": 3
   },
   "file_extension": ".py",
   "mimetype": "text/x-python",
   "name": "python",
   "nbconvert_exporter": "python",
   "pygments_lexer": "ipython3",
   "version": "3.10.5"
  },
  "orig_nbformat": 4,
  "vscode": {
   "interpreter": {
    "hash": "4a6a3bf95d444a8ffd4d008958f0db8c91e6ab8ff3ae015d5f9f4c860624dd7f"
   }
  }
 },
 "nbformat": 4,
 "nbformat_minor": 2
}
